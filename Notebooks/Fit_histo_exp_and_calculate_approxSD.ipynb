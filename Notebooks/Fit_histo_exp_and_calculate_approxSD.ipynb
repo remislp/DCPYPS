{
 "cells": [
  {
   "cell_type": "markdown",
   "metadata": {},
   "source": [
    "# General settings"
   ]
  },
  {
   "cell_type": "code",
   "execution_count": 1,
   "metadata": {
    "collapsed": true
   },
   "outputs": [],
   "source": [
    "import sys"
   ]
  },
  {
   "cell_type": "code",
   "execution_count": 2,
   "metadata": {
    "collapsed": true
   },
   "outputs": [],
   "source": [
    "%matplotlib inline\n",
    "import matplotlib.pyplot as plt\n",
    "import math\n",
    "from scipy.optimize import minimize, bisect\n",
    "import numpy as np\n",
    "from numpy import linalg as nplin"
   ]
  },
  {
   "cell_type": "code",
   "execution_count": 3,
   "metadata": {
    "collapsed": false
   },
   "outputs": [],
   "source": [
    "from dcpyps import dataset\n",
    "from dcpyps import dcplots\n",
    "from dcpyps import dcio\n",
    "from dcpyps import pdfs\n",
    "from dcpyps import dcequations as dceq"
   ]
  },
  {
   "cell_type": "markdown",
   "metadata": {},
   "source": [
    "# Load intervals from text file"
   ]
  },
  {
   "cell_type": "code",
   "execution_count": 4,
   "metadata": {
    "collapsed": true
   },
   "outputs": [],
   "source": [
    "def txt_load_one_col(filename):\n",
    "    \"\"\"\"\n",
    "    Read one column of data from a text file.\n",
    "    \"\"\"\n",
    "\n",
    "    f = open(filename, 'r')\n",
    "    lines = f.readlines()\n",
    "    f.close()\n",
    "    data = []\n",
    "    for line in lines:\n",
    "        if line != '\\n':\n",
    "            value = float(line.strip(\"\\t\\n\"))    #divide lines into values at tabs\n",
    "#            print 'value=', value\n",
    "            data.append(value)\n",
    "\n",
    "    print (\"number of original intervals =\", len(lines))\n",
    "    print (\"number of useful intervals =\", len(data))\n",
    "    return data\n",
    "\n",
    "def scn_write(intervals, amplitudes, flags, calfac=1.0, ffilt=-1.0, rms=0.0,\n",
    "        treso=0.0, tresg=0.0, Emem=0.0,\n",
    "        filename='new_saved.SCN', type='simulated'):\n",
    "    \"\"\"\n",
    "    Write binary SCAN (DCprogs: http://www.ucl.ac.uk/Pharmacology/dcpr95.html)\n",
    "    format file.\n",
    "\n",
    "    Parameters\n",
    "    ----------\n",
    "    \"\"\"\n",
    "\n",
    "    # Preapare header.\n",
    "    iscanver, ioffset = -103, 154\n",
    "    nint, avamp = len(intervals), np.average(amplitudes)\n",
    "    title = '{0: <70}'.format(type) # char*70\n",
    "    t = time.asctime()\n",
    "    expdate = t[8:10] + '-' + t[4:7] + '-' + t[20:24] # '00-ooo-0000' char*11\n",
    "    tapeID = '{0: <24}'.format(type) # char*24\n",
    "    ipatch = 0 # integer32\n",
    "\n",
    "    # Write header.\n",
    "    fout = open(filename, 'wb')\n",
    "    fout.write(struct.pack('iii', iscanver, ioffset, nint))\n",
    "    fout.write(title + expdate + tapeID)\n",
    "    fout.write(struct.pack('ififff', ipatch, Emem, 0, avamp, rms, ffilt))\n",
    "    fout.write(struct.pack('fff', calfac, treso, tresg))\n",
    "\n",
    "    # Write data block.\n",
    "    fout.write(struct.pack('f'*nint, *intervals))\n",
    "    fout.write(struct.pack('h'*nint, *amplitudes))\n",
    "    fout.write(struct.pack('b'*nint, *flags))\n",
    "    fout.close()"
   ]
  },
  {
   "cell_type": "code",
   "execution_count": 5,
   "metadata": {
    "collapsed": false,
    "scrolled": true
   },
   "outputs": [
    {
     "name": "stdout",
     "output_type": "stream",
     "text": [
      "number of original intervals = 125\n",
      "number of useful intervals = 125\n"
     ]
    }
   ],
   "source": [
    "# LOAD DATA.\n",
    "filename = \"intervals1.txt\"\n",
    "intervals = txt_load_one_col(filename)"
   ]
  },
  {
   "cell_type": "code",
   "execution_count": 6,
   "metadata": {
    "collapsed": false
   },
   "outputs": [],
   "source": [
    "save_to_filename = 'intervals1.scn'\n",
    "\n",
    "# Save loaded intervals as shut intervals in scan file.\n",
    "nint = 2 * len(intervals) + 1\n",
    "intervals_to_save = np.ones((nint), dtype='float')\n",
    "intervals_to_save[1::2] = intervals\n",
    "amplitudes = np.zeros((nint), dtype='int')\n",
    "amplitudes[0::2] += 1\n",
    "options = np.zeros((nint), dtype='b')\n",
    "dcio.scn_write(np.array(intervals_to_save), amplitudes, options,\n",
    "            filename=save_to_filename, type='Converted 1 type of ints')\n"
   ]
  },
  {
   "cell_type": "code",
   "execution_count": 7,
   "metadata": {
    "collapsed": false
   },
   "outputs": [
    {
     "name": "stdout",
     "output_type": "stream",
     "text": [
      "\n",
      "\n",
      " Data loaded from file: intervals1.scn\n",
      "Concentration of agonist = 10000.000 microMolar\n",
      "Resolution for HJC calculations = 0.1 microseconds\n",
      "Critical gap length to define end of group (tcrit) = 0.100 milliseconds\n",
      "\t(defined so that all openings in a group prob come from same channel)\n",
      "Initial and final vectors for bursts calculated asin Colquhoun, Hawkes & Srodzinski, (1996, eqs 5.8, 5.11).\n",
      "\n",
      "Number of resolved intervals = 250\n",
      "Number of resolved periods = 250\n",
      "\n",
      "Number of open periods = 125\n",
      "Mean and SD of open periods = 1.000000047 +/- 0.000000000 ms\n",
      "Range of open periods from 1.000000047 ms to 1.000000047 ms\n",
      "\n",
      "Number of shut intervals = 125\n",
      "Mean and SD of shut periods = 0.840044639 +/- 0.932190625 ms\n",
      "Range of shut periods from 0.001079305 ms to 5.266318098 ms\n",
      "Last shut period = 0.005504945 ms\n",
      "\n",
      "Number of bursts = 95\n",
      "Average length = 1.327109665 ms\n",
      "Range: 1.000 to 16.436 millisec\n",
      "Average number of openings= 1.315789474\n"
     ]
    }
   ],
   "source": [
    "# LOAD DATA.\n",
    "filename = \"intervals1.scn\"\n",
    "filename = \"/DCPYPS/dcpyps/tests/AChsim.scn\"\n",
    "tres = 0.0000001\n",
    "tcrit = 0.0001\n",
    "conc = 10000e-6\n",
    "rec = dataset.SCRecord([filename], conc, tres, tcrit)\n",
    "rec.printout()"
   ]
  },
  {
   "cell_type": "code",
   "execution_count": 8,
   "metadata": {
    "collapsed": false
   },
   "outputs": [],
   "source": [
    "#for i1, i2 in zip(intervals, np.array(rec.shint)*1000):\n",
    "#    print(i1, i2)"
   ]
  },
  {
   "cell_type": "markdown",
   "metadata": {},
   "source": [
    "# Stability plots"
   ]
  },
  {
   "cell_type": "code",
   "execution_count": 9,
   "metadata": {
    "collapsed": false
   },
   "outputs": [],
   "source": [
    "ma_period = 1 # Moving average interval\n",
    "ma = dcplots.moving_average(intervals, ma_period) # Moving average"
   ]
  },
  {
   "cell_type": "code",
   "execution_count": 10,
   "metadata": {
    "collapsed": false
   },
   "outputs": [
    {
     "data": {
      "text/plain": [
       "[<matplotlib.lines.Line2D at 0x7f1ed30>]"
      ]
     },
     "execution_count": 10,
     "metadata": {},
     "output_type": "execute_result"
    },
    {
     "data": {
      "image/png": "[encoded data removed]",
      "text/plain": [
       "<matplotlib.figure.Figure at 0x7babe48>"
      ]
     },
     "metadata": {},
     "output_type": "display_data"
    }
   ],
   "source": [
    "x = np.linspace(0, np.prod(ma.shape), num=np.prod(ma.shape), endpoint=True)\n",
    "fig = plt.figure(figsize=(6,3))\n",
    "ax = fig.add_subplot(111)\n",
    "ax.semilogy(x, ma, 'r', label='Open periods')"
   ]
  },
  {
   "cell_type": "markdown",
   "metadata": {},
   "source": [
    "# Dwell-time histograms"
   ]
  },
  {
   "cell_type": "code",
   "execution_count": 11,
   "metadata": {
    "collapsed": false
   },
   "outputs": [
    {
     "name": "stdout",
     "output_type": "stream",
     "text": [
      "Mean and SD of 125 intervals = 0.840045 +/- 0.932191\n",
      "\tRange from 0.00107931 to 5.26632\n"
     ]
    },
    {
     "data": {
      "image/png": "[encoded data removed]",
      "text/plain": [
       "<matplotlib.figure.Figure at 0x8751908>"
      ]
     },
     "metadata": {},
     "output_type": "display_data"
    }
   ],
   "source": [
    "oxout, oyout, odx = dcplots.prepare_xlog_hist(intervals, 0.0001)\n",
    "# Plot open period histogram\n",
    "fig = plt.figure(figsize=(8,3))\n",
    "ax = fig.add_subplot(121)\n",
    "dcplots.xlog_hist_data(ax, intervals, 0.0001, shut=False)\n",
    "print('Mean and SD of {0:d} intervals = {1:.6g} +/- {2:.6g}'.format\n",
    "      (len(intervals), np.average(intervals), np.std(intervals)))\n",
    "print('\\tRange from {0:.6g} to {1:.6g}'.format(min(intervals),\n",
    "                                                  max(intervals)))"
   ]
  },
  {
   "cell_type": "markdown",
   "metadata": {},
   "source": [
    "## Fit multi-exponential pdf"
   ]
  },
  {
   "cell_type": "markdown",
   "metadata": {},
   "source": [
    "##### Fit dwell time histogram"
   ]
  },
  {
   "cell_type": "code",
   "execution_count": 19,
   "metadata": {
    "collapsed": false,
    "scrolled": true
   },
   "outputs": [
    {
     "name": "stdout",
     "output_type": "stream",
     "text": [
      "Tau = 0.000020; lambda (1/s)= 50000.000000\n",
      "Area= 0.800000; number = 104.523;amplitude (1/s) = 40000.000\n",
      "Tau = 0.001000; lambda (1/s)= 1000.000000\n",
      "Area= 0.200000; number = 26.131;amplitude (1/s) = 200.000\n",
      "\n",
      "Overall mean = 0.000216\n",
      "Predicted true number of events = 130\n",
      "Number of fitted = 125\n",
      "Number below Ylow = 5.519; number above Yhigh = 0.135\n",
      "\n",
      "Start LogLikelihood = -679.1623110374131\n"
     ]
    }
   ],
   "source": [
    "taus, areas = [20e-6, 1e-3], [0.8]\n",
    "expPDF_sh = dceq.MultiExponentialPDF(np.asarray(rec.shint), \n",
    "                                         taus=np.asarray(taus), areas=np.asarray(areas))\n",
    "print(expPDF_sh)\n",
    "theta = expPDF_sh.theta\n",
    "print('Start LogLikelihood =', expPDF_sh.loglik(theta))"
   ]
  },
  {
   "cell_type": "code",
   "execution_count": 13,
   "metadata": {
    "collapsed": false,
    "scrolled": false
   },
   "outputs": [
    {
     "name": "stdout",
     "output_type": "stream",
     "text": [
      " final_simplex: (array([[  3.70008323e-05,   1.07296455e-03,   1.98720403e-01],\n",
      "       [  3.69968155e-05,   1.07318374e-03,   1.98786914e-01],\n",
      "       [  3.70126046e-05,   1.07310693e-03,   1.98733047e-01],\n",
      "       [  3.69891466e-05,   1.07301561e-03,   1.98683111e-01]]), array([-776.18111542, -776.18111514, -776.18111484, -776.18111466]))\n",
      "           fun: -776.18111541715029\n",
      "       message: 'Optimization terminated successfully.'\n",
      "          nfev: 112\n",
      "           nit: 61\n",
      "        status: 0\n",
      "       success: True\n",
      "             x: array([  3.70008323e-05,   1.07296455e-03,   1.98720403e-01])\n"
     ]
    }
   ],
   "source": [
    "res = minimize(expPDF_sh.loglik, theta, method='Nelder-Mead')\n",
    "print(res)\n",
    "expPDF_sh.theta = res.x"
   ]
  },
  {
   "cell_type": "code",
   "execution_count": 14,
   "metadata": {
    "collapsed": false,
    "scrolled": true
   },
   "outputs": [
    {
     "name": "stdout",
     "output_type": "stream",
     "text": [
      "Tau = 0.000037; lambda (1/s)= 27026.419059\n",
      "Area= 0.198720; number = 25.153;amplitude (1/s) = 5370.701\n",
      "Tau = 0.001073; lambda (1/s)= 931.997245\n",
      "Area= 0.801280; number = 101.421;amplitude (1/s) = 746.790\n",
      "\n",
      "Overall mean = 0.000867\n",
      "Predicted true number of events = 126\n",
      "Number of fitted = 125\n",
      "Number below Ylow = 0.825; number above Yhigh = 0.749\n",
      "\n"
     ]
    },
    {
     "data": {
      "image/png": "[encoded data removed]",
      "text/plain": [
       "<matplotlib.figure.Figure at 0x7bcbc88>"
      ]
     },
     "metadata": {},
     "output_type": "display_data"
    }
   ],
   "source": [
    "fig = plt.figure(figsize=(4,3))\n",
    "ax = fig.add_subplot(111)\n",
    "dcplots.xlog_hist_EXP_fit(ax, rec.tres, rec.shint, pdf=expPDF_sh.to_plot, pars=res.x, shut=True) \n",
    "print(expPDF_sh)"
   ]
  },
  {
   "cell_type": "markdown",
   "metadata": {
    "collapsed": true
   },
   "source": [
    "### Calculate approximate SD"
   ]
  },
  {
   "cell_type": "code",
   "execution_count": 15,
   "metadata": {
    "collapsed": true
   },
   "outputs": [],
   "source": [
    "def hessian(theta, LLfunc, args):\n",
    "    \"\"\"\n",
    "    \"\"\"\n",
    "    hess = np.zeros((theta.size, theta.size))\n",
    "    print('hessian=', hessian)\n",
    "    deltas = optimal_deltas(theta, LLfunc, args)\n",
    "    print('optimal deltas=', deltas)\n",
    "    # Diagonal elements of Hessian\n",
    "    coe11 = np.array([theta.copy(), ] * theta.size) + np.diag(deltas)\n",
    "    coe33 = np.array([theta.copy(), ] * theta.size) - np.diag(deltas)\n",
    "    for i in range(theta.size):\n",
    "        hess[i, i] = ((LLfunc(coe11[i], args) - \n",
    "            2.0 * LLfunc(theta, args) +\n",
    "            LLfunc(coe33[i], args)) / (deltas[i]  ** 2))\n",
    "    # Non diagonal elements of Hessian\n",
    "    for i in range(theta.size):\n",
    "        for j in range(theta.size):\n",
    "            coe1, coe2, coe3, coe4 = theta.copy(), theta.copy(), theta.copy(), theta.copy()\n",
    "            if i != j:                \n",
    "                coe1[i] += deltas[i]\n",
    "                coe1[j] += deltas[j]\n",
    "                coe2[i] += deltas[i]\n",
    "                coe2[j] -= deltas[j]\n",
    "                coe3[i] -= deltas[i]\n",
    "                coe3[j] += deltas[j]\n",
    "                coe4[i] -= deltas[i]\n",
    "                coe4[j] -= deltas[j]\n",
    "                hess[i, j] = ((\n",
    "                    LLfunc(coe1, args) -\n",
    "                    LLfunc(coe2, args) -\n",
    "                    LLfunc(coe3, args) +\n",
    "                    LLfunc(coe4, args)) /\n",
    "                    (4 * deltas[i] * deltas[j]))\n",
    "    return hess\n",
    "\n",
    "def optimal_deltas(theta, LLfunc, args):\n",
    "    \"\"\" \"\"\"\n",
    "\n",
    "    Lcrit = 1.005 * LLfunc(theta, args)\n",
    "    print('Lcrit=', Lcrit)\n",
    "    deltas = 0.1 * theta\n",
    "    print('start deltas=', deltas)\n",
    "    L = LLfunc(theta + deltas, args)\n",
    "    if L < Lcrit:\n",
    "        count = 0\n",
    "        while L < Lcrit and count < 100:\n",
    "            deltas *= 2\n",
    "            L = LLfunc(theta + deltas, args)\n",
    "            count += 1\n",
    "    elif L > Lcrit:\n",
    "        count = 0\n",
    "        while L > Lcrit and count < 100:\n",
    "            deltas *= 0.5\n",
    "            L = LLfunc(theta + deltas, args)\n",
    "            count += 1\n",
    "    return deltas\n",
    "\n",
    "def covariance_matrix(theta, func, args, weightmode=1):\n",
    "    \"\"\" \"\"\"\n",
    "    cov = nplin.inv(hessian(theta, func, args))\n",
    "#    if weightmode == 1:\n",
    "#        errvar = SSD(theta, (func, args))[0] / (args[0].size - theta.size)\n",
    "#    else:\n",
    "#        errvar = 1.0\n",
    "    return cov #* errvar\n",
    "\n",
    "def correlation_matrix(covar):\n",
    "    correl = np.zeros((len(covar),len(covar)))\n",
    "    for i1 in range(len(covar)):\n",
    "        for j1 in range(len(covar)):\n",
    "            correl[i1,j1] = (covar[i1,j1] / \n",
    "                np.sqrt(np.multiply(covar[i1,i1],covar[j1,j1])))\n",
    "    return correl"
   ]
  },
  {
   "cell_type": "code",
   "execution_count": 16,
   "metadata": {
    "collapsed": false
   },
   "outputs": [
    {
     "name": "stdout",
     "output_type": "stream",
     "text": [
      "[  3.70008323e-05   1.07296455e-03   1.98720403e-01]\n",
      "Max log likelihood =  -776.181115417\n"
     ]
    }
   ],
   "source": [
    "print(res.x)\n",
    "print('Max log likelihood = ', res.fun)"
   ]
  },
  {
   "cell_type": "code",
   "execution_count": 17,
   "metadata": {
    "collapsed": false
   },
   "outputs": [
    {
     "name": "stdout",
     "output_type": "stream",
     "text": [
      "hessian= <function hessian at 0x00000000098401E0>\n"
     ]
    },
    {
     "ename": "TypeError",
     "evalue": "loglik() takes 2 positional arguments but 3 were given",
     "output_type": "error",
     "traceback": [
      "\u001b[1;31m---------------------------------------------------------------------------\u001b[0m",
      "\u001b[1;31mTypeError\u001b[0m                                 Traceback (most recent call last)",
      "\u001b[1;32m<ipython-input-17-5797779d4a80>\u001b[0m in \u001b[0;36m<module>\u001b[1;34m()\u001b[0m\n\u001b[1;32m----> 1\u001b[1;33m \u001b[0mhess\u001b[0m \u001b[1;33m=\u001b[0m \u001b[0mhessian\u001b[0m\u001b[1;33m(\u001b[0m\u001b[0mres\u001b[0m\u001b[1;33m.\u001b[0m\u001b[0mx\u001b[0m\u001b[1;33m,\u001b[0m \u001b[0mexpPDF_sh\u001b[0m\u001b[1;33m.\u001b[0m\u001b[0mloglik\u001b[0m\u001b[1;33m,\u001b[0m \u001b[0mnp\u001b[0m\u001b[1;33m.\u001b[0m\u001b[0marray\u001b[0m\u001b[1;33m(\u001b[0m\u001b[0mintervals\u001b[0m\u001b[1;33m)\u001b[0m\u001b[1;33m)\u001b[0m\u001b[1;33m\u001b[0m\u001b[0m\n\u001b[0m",
      "\u001b[1;32m<ipython-input-15-4500e921f715>\u001b[0m in \u001b[0;36mhessian\u001b[1;34m(theta, LLfunc, args)\u001b[0m\n\u001b[0;32m      4\u001b[0m     \u001b[0mhess\u001b[0m \u001b[1;33m=\u001b[0m \u001b[0mnp\u001b[0m\u001b[1;33m.\u001b[0m\u001b[0mzeros\u001b[0m\u001b[1;33m(\u001b[0m\u001b[1;33m(\u001b[0m\u001b[0mtheta\u001b[0m\u001b[1;33m.\u001b[0m\u001b[0msize\u001b[0m\u001b[1;33m,\u001b[0m \u001b[0mtheta\u001b[0m\u001b[1;33m.\u001b[0m\u001b[0msize\u001b[0m\u001b[1;33m)\u001b[0m\u001b[1;33m)\u001b[0m\u001b[1;33m\u001b[0m\u001b[0m\n\u001b[0;32m      5\u001b[0m     \u001b[0mprint\u001b[0m\u001b[1;33m(\u001b[0m\u001b[1;34m'hessian='\u001b[0m\u001b[1;33m,\u001b[0m \u001b[0mhessian\u001b[0m\u001b[1;33m)\u001b[0m\u001b[1;33m\u001b[0m\u001b[0m\n\u001b[1;32m----> 6\u001b[1;33m     \u001b[0mdeltas\u001b[0m \u001b[1;33m=\u001b[0m \u001b[0moptimal_deltas\u001b[0m\u001b[1;33m(\u001b[0m\u001b[0mtheta\u001b[0m\u001b[1;33m,\u001b[0m \u001b[0mLLfunc\u001b[0m\u001b[1;33m,\u001b[0m \u001b[0margs\u001b[0m\u001b[1;33m)\u001b[0m\u001b[1;33m\u001b[0m\u001b[0m\n\u001b[0m\u001b[0;32m      7\u001b[0m     \u001b[0mprint\u001b[0m\u001b[1;33m(\u001b[0m\u001b[1;34m'optimal deltas='\u001b[0m\u001b[1;33m,\u001b[0m \u001b[0mdeltas\u001b[0m\u001b[1;33m)\u001b[0m\u001b[1;33m\u001b[0m\u001b[0m\n\u001b[0;32m      8\u001b[0m     \u001b[1;31m# Diagonal elements of Hessian\u001b[0m\u001b[1;33m\u001b[0m\u001b[1;33m\u001b[0m\u001b[0m\n",
      "\u001b[1;32m<ipython-input-15-4500e921f715>\u001b[0m in \u001b[0;36moptimal_deltas\u001b[1;34m(theta, LLfunc, args)\u001b[0m\n\u001b[0;32m     37\u001b[0m     \u001b[1;34m\"\"\" \"\"\"\u001b[0m\u001b[1;33m\u001b[0m\u001b[0m\n\u001b[0;32m     38\u001b[0m \u001b[1;33m\u001b[0m\u001b[0m\n\u001b[1;32m---> 39\u001b[1;33m     \u001b[0mLcrit\u001b[0m \u001b[1;33m=\u001b[0m \u001b[1;36m1.005\u001b[0m \u001b[1;33m*\u001b[0m \u001b[0mLLfunc\u001b[0m\u001b[1;33m(\u001b[0m\u001b[0mtheta\u001b[0m\u001b[1;33m,\u001b[0m \u001b[0margs\u001b[0m\u001b[1;33m)\u001b[0m\u001b[1;33m\u001b[0m\u001b[0m\n\u001b[0m\u001b[0;32m     40\u001b[0m     \u001b[0mprint\u001b[0m\u001b[1;33m(\u001b[0m\u001b[1;34m'Lcrit='\u001b[0m\u001b[1;33m,\u001b[0m \u001b[0mLcrit\u001b[0m\u001b[1;33m)\u001b[0m\u001b[1;33m\u001b[0m\u001b[0m\n\u001b[0;32m     41\u001b[0m     \u001b[0mdeltas\u001b[0m \u001b[1;33m=\u001b[0m \u001b[1;36m0.1\u001b[0m \u001b[1;33m*\u001b[0m \u001b[0mtheta\u001b[0m\u001b[1;33m\u001b[0m\u001b[0m\n",
      "\u001b[1;31mTypeError\u001b[0m: loglik() takes 2 positional arguments but 3 were given"
     ]
    }
   ],
   "source": [
    "hess = hessian(res.x, expPDF_sh.loglik, np.array(intervals))"
   ]
  },
  {
   "cell_type": "code",
   "execution_count": null,
   "metadata": {
    "collapsed": false,
    "scrolled": true
   },
   "outputs": [],
   "source": [
    "print(hess)"
   ]
  },
  {
   "cell_type": "code",
   "execution_count": null,
   "metadata": {
    "collapsed": false
   },
   "outputs": [],
   "source": [
    "cov = nplin.inv(hess)\n",
    "print(cov)"
   ]
  },
  {
   "cell_type": "code",
   "execution_count": null,
   "metadata": {
    "collapsed": false
   },
   "outputs": [],
   "source": [
    "appSD = np.sqrt(cov.diagonal())\n",
    "print(appSD)"
   ]
  },
  {
   "cell_type": "code",
   "execution_count": null,
   "metadata": {
    "collapsed": false
   },
   "outputs": [],
   "source": [
    "print(res.x)"
   ]
  },
  {
   "cell_type": "code",
   "execution_count": null,
   "metadata": {
    "collapsed": true
   },
   "outputs": [],
   "source": [
    "cormat = correlation_matrix(cov)"
   ]
  },
  {
   "cell_type": "code",
   "execution_count": null,
   "metadata": {
    "collapsed": false
   },
   "outputs": [],
   "source": [
    "print('Correlation matrix =\\n', cormat)"
   ]
  },
  {
   "cell_type": "code",
   "execution_count": null,
   "metadata": {
    "collapsed": false
   },
   "outputs": [],
   "source": [
    "print_exps_with_errs(res.x, appSD)"
   ]
  },
  {
   "cell_type": "code",
   "execution_count": null,
   "metadata": {
    "collapsed": true
   },
   "outputs": [],
   "source": []
  }
 ],
 "metadata": {
  "anaconda-cloud": {},
  "kernelspec": {
   "display_name": "Python [Root]",
   "language": "python",
   "name": "Python [Root]"
  },
  "language_info": {
   "codemirror_mode": {
    "name": "ipython",
    "version": 3
   },
   "file_extension": ".py",
   "mimetype": "text/x-python",
   "name": "python",
   "nbconvert_exporter": "python",
   "pygments_lexer": "ipython3",
   "version": "3.5.1"
  }
 },
 "nbformat": 4,
 "nbformat_minor": 0
}
