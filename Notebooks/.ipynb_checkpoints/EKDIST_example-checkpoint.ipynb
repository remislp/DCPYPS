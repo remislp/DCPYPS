{
 "cells": [
  {
   "cell_type": "code",
   "execution_count": 1,
   "metadata": {},
   "outputs": [],
   "source": [
    "%matplotlib inline\n",
    "import matplotlib.pyplot as plt"
   ]
  },
  {
   "cell_type": "code",
   "execution_count": 2,
   "metadata": {},
   "outputs": [],
   "source": [
    "import numpy as np\n",
    "from scipy.optimize import minimize, bisect"
   ]
  },
  {
   "cell_type": "code",
   "execution_count": 3,
   "metadata": {},
   "outputs": [],
   "source": [
    "from dcpyps.ekdist import ekrecord\n",
    "from dcpyps.ekdist import ekplot\n",
    "from dcpyps import dcequations as dceq"
   ]
  },
  {
   "cell_type": "code",
   "execution_count": 5,
   "metadata": {},
   "outputs": [
    {
     "name": "stdout",
     "output_type": "stream",
     "text": [
      "Intervals loaded from SCN file: ../dcpyps/tests/AChsim.scn\n",
      "Total number of intervals = 13948\n",
      "Resolution for HJC calculations = 0.0 microseconds\n",
      "Number of resolved intervals = 13947\n",
      "Number of time periods = 13947\n",
      "\n",
      "Number of open periods = 6974\n",
      "Mean and SD of open periods = 0.428573114 +/- 0.639318244 ms\n",
      "Range of open periods from 0.010021283 ms to 7.095655892 ms\n",
      "\n",
      "Number of shut intervals = 6973\n",
      "Mean and SD of shut periods = 1101.849436760 +/- 1566.386461258 ms\n",
      "Range of shut periods from 0.010006604 ms to 14774.831771851 ms\n"
     ]
    }
   ],
   "source": [
    "rec = ekrecord.SingleChannelRecord()\n",
    "infile = [\"../dcpyps/tests/AChsim.scn\"]\n",
    "rec.load_SCN_file(infile)\n",
    "print(rec)"
   ]
  },
  {
   "cell_type": "code",
   "execution_count": null,
   "metadata": {},
   "outputs": [],
   "source": [
    "rec.tres = 20e-6\n",
    "print(rec)"
   ]
  },
  {
   "cell_type": "code",
   "execution_count": null,
   "metadata": {},
   "outputs": [],
   "source": [
    "ekplot.plot_stability_intervals(rec)"
   ]
  },
  {
   "cell_type": "code",
   "execution_count": null,
   "metadata": {},
   "outputs": [],
   "source": [
    "fc = 3000 # 3 kHz\n",
    "ekplot.plot_stability_amplitudes(rec, fc, n=2)"
   ]
  },
  {
   "cell_type": "code",
   "execution_count": null,
   "metadata": {},
   "outputs": [],
   "source": [
    "ekplot.plot_fitted_amplitude_histogram(rec, fc, n=2)"
   ]
  },
  {
   "cell_type": "code",
   "execution_count": null,
   "metadata": {},
   "outputs": [],
   "source": [
    "ekplot.plot_xlog_interval_histogram(rec.opint, rec.tres, shut=False)"
   ]
  },
  {
   "cell_type": "code",
   "execution_count": null,
   "metadata": {},
   "outputs": [],
   "source": [
    "ekplot.plot_xlog_interval_histogram(rec.shint, rec.tres, shut=True)"
   ]
  },
  {
   "cell_type": "markdown",
   "metadata": {},
   "source": [
    "## Fit multi-exponential pdf"
   ]
  },
  {
   "cell_type": "markdown",
   "metadata": {},
   "source": [
    "##### Fit open period histogram"
   ]
  },
  {
   "cell_type": "code",
   "execution_count": null,
   "metadata": {},
   "outputs": [],
   "source": [
    "taus = [1e-4, 1e-3, 1e-2]\n",
    "areas = [0.3, 0.3]\n",
    "expPDF = dceq.MultiExponentialPDF(np.asarray(rec.opint), \n",
    "                                         taus=np.asarray(taus), areas=np.asarray(areas))\n",
    "theta = expPDF.theta\n",
    "print('Start LogLikelihood =', expPDF.loglik(theta))"
   ]
  },
  {
   "cell_type": "code",
   "execution_count": null,
   "metadata": {},
   "outputs": [],
   "source": [
    "res = minimize(expPDF.loglik, theta, method='Nelder-Mead')\n",
    "print(res)\n",
    "expPDF.theta = res.x"
   ]
  },
  {
   "cell_type": "code",
   "execution_count": null,
   "metadata": {},
   "outputs": [],
   "source": [
    "ekplot.plot_xlog_interval_histogram_fit(rec.opint, rec.tres, expPDF.to_plot, res.x, shut=False)\n",
    "print(expPDF)"
   ]
  },
  {
   "cell_type": "markdown",
   "metadata": {},
   "source": [
    "##### Fit shut period histogram"
   ]
  },
  {
   "cell_type": "code",
   "execution_count": null,
   "metadata": {},
   "outputs": [],
   "source": [
    "taus = [2e-5, 2e-3, 2]\n",
    "areas = [0.3, 0.3]\n",
    "expPDF = dceq.MultiExponentialPDF(np.asarray(rec.shint), \n",
    "                                         taus=np.asarray(taus), areas=np.asarray(areas))\n",
    "theta = expPDF.theta\n",
    "print('Start LogLikelihood =', expPDF.loglik(theta))"
   ]
  },
  {
   "cell_type": "code",
   "execution_count": null,
   "metadata": {},
   "outputs": [],
   "source": [
    "res = minimize(expPDF.loglik, theta, method='Nelder-Mead')\n",
    "print(res)\n",
    "expPDF.theta = res.x"
   ]
  },
  {
   "cell_type": "code",
   "execution_count": null,
   "metadata": {},
   "outputs": [],
   "source": [
    "ekplot.plot_xlog_interval_histogram_fit(rec.shint, rec.tres, expPDF.to_plot, res.x, shut=True)\n",
    "print(expPDF)"
   ]
  },
  {
   "cell_type": "markdown",
   "metadata": {
    "collapsed": true
   },
   "source": [
    "#### ... to be continued ...     (TODO: bursts, calculate fitting error, etc)"
   ]
  },
  {
   "cell_type": "code",
   "execution_count": null,
   "metadata": {},
   "outputs": [],
   "source": []
  }
 ],
 "metadata": {
  "anaconda-cloud": {},
  "kernelspec": {
   "display_name": "Python 3",
   "language": "python",
   "name": "python3"
  },
  "language_info": {
   "codemirror_mode": {
    "name": "ipython",
    "version": 3
   },
   "file_extension": ".py",
   "mimetype": "text/x-python",
   "name": "python",
   "nbconvert_exporter": "python",
   "pygments_lexer": "ipython3",
   "version": "3.6.6"
  }
 },
 "nbformat": 4,
 "nbformat_minor": 2
}
