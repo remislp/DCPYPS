{
 "cells": [
  {
   "cell_type": "markdown",
   "metadata": {},
   "source": [
    "# General settings"
   ]
  },
  {
   "cell_type": "code",
   "execution_count": 2,
   "metadata": {
    "collapsed": true
   },
   "outputs": [],
   "source": [
    "%matplotlib inline\n",
    "import matplotlib.pyplot as plt"
   ]
  },
  {
   "cell_type": "code",
   "execution_count": 3,
   "metadata": {
    "collapsed": true
   },
   "outputs": [],
   "source": [
    "import sys\n",
    "import math\n",
    "from scipy.optimize import minimize, bisect\n",
    "import numpy as np\n",
    "from numpy import linalg as nplin"
   ]
  },
  {
   "cell_type": "code",
   "execution_count": 4,
   "metadata": {
    "collapsed": false
   },
   "outputs": [],
   "source": [
    "from dcpyps import dataset\n",
    "from dcpyps import dcplots\n",
    "from dcpyps import dcio"
   ]
  },
  {
   "cell_type": "code",
   "execution_count": 5,
   "metadata": {
    "collapsed": true
   },
   "outputs": [],
   "source": [
    "from dcpyps.ekdist import ekrecord\n",
    "from dcpyps.ekdist import ekplot\n",
    "from dcpyps import dcequations as dceq"
   ]
  },
  {
   "cell_type": "markdown",
   "metadata": {},
   "source": [
    "# Load intervals from text file"
   ]
  },
  {
   "cell_type": "code",
   "execution_count": 12,
   "metadata": {
    "collapsed": false
   },
   "outputs": [
    {
     "name": "stdout",
     "output_type": "stream",
     "text": [
      "Intervals loaded from SCN file: /DCPYPS/dcpyps/samples/scn/intervals1.scn\n",
      "Total number of intervals = 251\n",
      "Resolution for HJC calculations = 2.0 microseconds\n",
      "Number of resolved intervals = 248\n",
      "Number of time periods = 247\n",
      "\n",
      "Number of open periods = 124\n",
      "Mean and SD of open periods = 1.008073268 +/- 0.089536346 ms\n",
      "Range of open periods from 1.000000047 ms to 2.001079381 ms\n",
      "\n",
      "Number of shut intervals = 123\n",
      "Mean and SD of shut periods = 0.853650330 +/- 0.933562638 ms\n",
      "Range of shut periods from 0.006805163 ms to 5.266318098 ms\n"
     ]
    }
   ],
   "source": [
    "rec = ekrecord.SingleChannelRecord()\n",
    "infile = [\"/DCPYPS/dcpyps/samples/scn/intervals1.scn\"]\n",
    "rec.load_SCN_file(infile)\n",
    "rec.tres = 2e-6\n",
    "print(rec)"
   ]
  },
  {
   "cell_type": "markdown",
   "metadata": {},
   "source": [
    "# Stability plots"
   ]
  },
  {
   "cell_type": "code",
   "execution_count": 13,
   "metadata": {
    "collapsed": false
   },
   "outputs": [
    {
     "name": "stdout",
     "output_type": "stream",
     "text": [
      "RED- Open periods\n",
      "GREEN- Shut intervals\n",
      "BLUE- Popen\n"
     ]
    },
    {
     "data": {
      "image/png": "[encoded data removed]",
      "text/plain": [
       "<matplotlib.figure.Figure at 0x8b8e908>"
      ]
     },
     "metadata": {},
     "output_type": "display_data"
    }
   ],
   "source": [
    "ekplot.plot_stability_intervals(rec)"
   ]
  },
  {
   "cell_type": "markdown",
   "metadata": {},
   "source": [
    "# Dwell-time histograms"
   ]
  },
  {
   "cell_type": "code",
   "execution_count": 14,
   "metadata": {
    "collapsed": false
   },
   "outputs": [
    {
     "name": "stdout",
     "output_type": "stream",
     "text": [
      "Mean and SD of 123 time periods = 0.85365 +/- 0.933563 ms\n",
      "\tRange from 0.00680516 to 5.26632 ms\n"
     ]
    },
    {
     "data": {
      "image/png": "[encoded data removed]",
      "text/plain": [
       "<matplotlib.figure.Figure at 0x5762e48>"
      ]
     },
     "metadata": {},
     "output_type": "display_data"
    }
   ],
   "source": [
    "ekplot.plot_xlog_interval_histogram(rec.shint, rec.tres, shut=True)"
   ]
  },
  {
   "cell_type": "markdown",
   "metadata": {},
   "source": [
    "## Fit multi-exponential pdf"
   ]
  },
  {
   "cell_type": "markdown",
   "metadata": {},
   "source": [
    "##### Some useful functions"
   ]
  },
  {
   "cell_type": "code",
   "execution_count": null,
   "metadata": {
    "collapsed": false
   },
   "outputs": [],
   "source": [
    "def myexp(theta, X):\n",
    "    tau, area = theta_unsqueeze(theta)\n",
    "    X = np.asarray(X)\n",
    "    y = np.array([])\n",
    "    for t in np.nditer(X):\n",
    "        y = np.append(y, np.sum((area / tau) * np.exp(-t / tau)))\n",
    "    return y\n",
    "\n",
    "def theta_unsqueeze(theta):\n",
    "    theta = np.asarray(theta)\n",
    "    tau, area = np.split(theta, [int(math.ceil(len(theta) / 2))])\n",
    "    area = np.append(area, 1 - np.sum(area))\n",
    "    return tau, area\n",
    "\n",
    "def LL(theta, X):\n",
    "    tau, area = theta_unsqueeze(theta)\n",
    "    tau[tau < 1.0e-30] = 1e-8\n",
    "    area[area > 1.0] = 0.99999\n",
    "    area[area < 0.0] = 1e-6\n",
    "    if np.sum(area[:-1]) >= 1: \n",
    "        area[:-1] = 0.99 * area[:-1] / np.sum(area[:-1])\n",
    "    area[-1] = 1 - np.sum(area[:-1])\n",
    "    \n",
    "    d = np.sum( area * (np.exp(-min(X) / tau) - np.exp(-max(X)/ tau)))\n",
    "    if d < 1.e-37:\n",
    "        print (' ERROR in EXPLIK: d = ', d)\n",
    "    X = np.asarray(X)\n",
    "    s = 0.0\n",
    "    for t in np.nditer(X):\n",
    "        s -= math.log(np.sum((area / tau) * np.exp(-t / tau)))\n",
    "    #theta = np.append(tau, area[:-1])\n",
    "    return s + len(X) * math.log(d) #, theta\n",
    "\n",
    "def number_per_comp(theta, X):\n",
    "    tau, area = theta_unsqueeze(theta)\n",
    "    f1 = np.sum(area * np.exp(-min(X) / tau))  #Prob(obs>ylow)\n",
    "    f2 = np.sum(area * np.exp(-max(X) / tau))  #Prob(obs>yhigh)\n",
    "    antrue = len(X) / (f1 - f2)\n",
    "    en = antrue * area\n",
    "    enout = [antrue * (1. - f1), antrue * f2]\n",
    "    return en, enout\n",
    "\n",
    "def print_exps(theta, X):\n",
    "    tau, area = theta_unsqueeze(theta)\n",
    "    numb, numout = number_per_comp(theta, X)\n",
    "    for ta, ar, nu in zip(tau, area, numb):\n",
    "        print('Tau = {0:.6f}; lambda (1/s)= {1:.6f}'.format(ta, 1.0 / ta))\n",
    "        print('Area= {0:.6f}; number = {1:.3f}; amplitude (1/s) = {2:.3f}'.format(ar, nu, ar / ta))\n",
    "    mean = np.sum(area * tau)\n",
    "    print('\\nOverall mean = {0:.6f}'.format(mean))\n",
    "    print('Predicted true number of events = ', np.sum(numb))\n",
    "    print('Number of fitted = ', len(X))\n",
    "    print('Number below Ylow = {0:.3f}; number above Yhigh = {1:.3f}'.\n",
    "          format(numout[0], numout[1]))\n",
    "\n",
    "def errs_unsqueeze(sd):\n",
    "    sd = np.asarray(sd)\n",
    "    tsd, asd = np.split(sd, [int(math.ceil(len(sd) / 2))])\n",
    "    asd = np.append(asd, asd[-1])\n",
    "    return tsd, asd\n",
    "    \n",
    "    \n",
    "def print_exps_with_errs(theta, apprSD):\n",
    "    tau, area = theta_unsqueeze(theta)\n",
    "    tsd, asd = errs_unsqueeze(apprSD)\n",
    "    for ta, ar, td, ad in zip(tau, area, tsd, asd):\n",
    "        print('Tau = {0:.6f}; approximate SD = {1:.6f}'.format(ta, td))\n",
    "        print('Area= {0:.6f}; approximate SD = {1:.6f}'.format(ar, ad))\n"
   ]
  },
  {
   "cell_type": "markdown",
   "metadata": {},
   "source": [
    "##### Fit dwell time histogram"
   ]
  },
  {
   "cell_type": "code",
   "execution_count": null,
   "metadata": {
    "collapsed": false,
    "scrolled": true
   },
   "outputs": [],
   "source": [
    "theta = [0.036, 1.1, 0.20]\n",
    "print('Start LogLikelihood =', LL(theta, np.array(intervals)))"
   ]
  },
  {
   "cell_type": "code",
   "execution_count": null,
   "metadata": {
    "collapsed": false,
    "scrolled": false
   },
   "outputs": [],
   "source": [
    "res = minimize(LL, theta, args=np.array(intervals), method='Nelder-Mead')\n",
    "print (res)"
   ]
  },
  {
   "cell_type": "code",
   "execution_count": null,
   "metadata": {
    "collapsed": false,
    "scrolled": true
   },
   "outputs": [],
   "source": [
    "fig = plt.figure(figsize=(4,3))\n",
    "ax = fig.add_subplot(111)\n",
    "dcplots.xlog_hist_EXP_fit(ax, 0.0001, intervals, pdf=myexp, pars=res.x, shut=False) \n",
    "print_exps(res.x, intervals)"
   ]
  },
  {
   "cell_type": "markdown",
   "metadata": {
    "collapsed": true
   },
   "source": [
    "### Calculate approximate SD"
   ]
  },
  {
   "cell_type": "code",
   "execution_count": null,
   "metadata": {
    "collapsed": true
   },
   "outputs": [],
   "source": [
    "def hessian(theta, LLfunc, args):\n",
    "    \"\"\"\n",
    "    \"\"\"\n",
    "    hess = np.zeros((theta.size, theta.size))\n",
    "    print('hessian=', hessian)\n",
    "    deltas = optimal_deltas(theta, LLfunc, args)\n",
    "    print('optimal deltas=', deltas)\n",
    "    # Diagonal elements of Hessian\n",
    "    coe11 = np.array([theta.copy(), ] * theta.size) + np.diag(deltas)\n",
    "    coe33 = np.array([theta.copy(), ] * theta.size) - np.diag(deltas)\n",
    "    for i in range(theta.size):\n",
    "        hess[i, i] = ((LLfunc(coe11[i], args) - \n",
    "            2.0 * LLfunc(theta, args) +\n",
    "            LLfunc(coe33[i], args)) / (deltas[i]  ** 2))\n",
    "    # Non diagonal elements of Hessian\n",
    "    for i in range(theta.size):\n",
    "        for j in range(theta.size):\n",
    "            coe1, coe2, coe3, coe4 = theta.copy(), theta.copy(), theta.copy(), theta.copy()\n",
    "            if i != j:                \n",
    "                coe1[i] += deltas[i]\n",
    "                coe1[j] += deltas[j]\n",
    "                coe2[i] += deltas[i]\n",
    "                coe2[j] -= deltas[j]\n",
    "                coe3[i] -= deltas[i]\n",
    "                coe3[j] += deltas[j]\n",
    "                coe4[i] -= deltas[i]\n",
    "                coe4[j] -= deltas[j]\n",
    "                hess[i, j] = ((\n",
    "                    LLfunc(coe1, args) -\n",
    "                    LLfunc(coe2, args) -\n",
    "                    LLfunc(coe3, args) +\n",
    "                    LLfunc(coe4, args)) /\n",
    "                    (4 * deltas[i] * deltas[j]))\n",
    "    return hess\n",
    "\n",
    "def optimal_deltas(theta, LLfunc, args):\n",
    "    \"\"\" \"\"\"\n",
    "\n",
    "    Lcrit = 1.005 * LLfunc(theta, args)\n",
    "    print('Lcrit=', Lcrit)\n",
    "    deltas = 0.1 * theta\n",
    "    print('start deltas=', deltas)\n",
    "    L = LLfunc(theta + deltas, args)\n",
    "    if L < Lcrit:\n",
    "        count = 0\n",
    "        while L < Lcrit and count < 100:\n",
    "            deltas *= 2\n",
    "            L = LLfunc(theta + deltas, args)\n",
    "            count += 1\n",
    "    elif L > Lcrit:\n",
    "        count = 0\n",
    "        while L > Lcrit and count < 100:\n",
    "            deltas *= 0.5\n",
    "            L = LLfunc(theta + deltas, args)\n",
    "            count += 1\n",
    "    return deltas\n",
    "\n",
    "def covariance_matrix(theta, func, args, weightmode=1):\n",
    "    \"\"\" \"\"\"\n",
    "    cov = nplin.inv(hessian(theta, func, args))\n",
    "#    if weightmode == 1:\n",
    "#        errvar = SSD(theta, (func, args))[0] / (args[0].size - theta.size)\n",
    "#    else:\n",
    "#        errvar = 1.0\n",
    "    return cov #* errvar\n",
    "\n",
    "def correlation_matrix(covar):\n",
    "    correl = np.zeros((len(covar),len(covar)))\n",
    "    for i1 in range(len(covar)):\n",
    "        for j1 in range(len(covar)):\n",
    "            correl[i1,j1] = (covar[i1,j1] / \n",
    "                np.sqrt(np.multiply(covar[i1,i1],covar[j1,j1])))\n",
    "    return correl"
   ]
  },
  {
   "cell_type": "code",
   "execution_count": null,
   "metadata": {
    "collapsed": false
   },
   "outputs": [],
   "source": [
    "print(res.x)\n",
    "print('Max log likelihood = ', res.fun)"
   ]
  },
  {
   "cell_type": "code",
   "execution_count": null,
   "metadata": {
    "collapsed": false
   },
   "outputs": [],
   "source": [
    "hess = hessian(res.x, LL, np.array(intervals))"
   ]
  },
  {
   "cell_type": "code",
   "execution_count": null,
   "metadata": {
    "collapsed": false,
    "scrolled": true
   },
   "outputs": [],
   "source": [
    "print(hess)"
   ]
  },
  {
   "cell_type": "code",
   "execution_count": null,
   "metadata": {
    "collapsed": false
   },
   "outputs": [],
   "source": [
    "cov = nplin.inv(hess)\n",
    "print(cov)"
   ]
  },
  {
   "cell_type": "code",
   "execution_count": null,
   "metadata": {
    "collapsed": false
   },
   "outputs": [],
   "source": [
    "appSD = np.sqrt(cov.diagonal())\n",
    "print(appSD)"
   ]
  },
  {
   "cell_type": "code",
   "execution_count": null,
   "metadata": {
    "collapsed": false
   },
   "outputs": [],
   "source": [
    "print(res.x)"
   ]
  },
  {
   "cell_type": "code",
   "execution_count": null,
   "metadata": {
    "collapsed": true
   },
   "outputs": [],
   "source": [
    "cormat = correlation_matrix(cov)"
   ]
  },
  {
   "cell_type": "code",
   "execution_count": null,
   "metadata": {
    "collapsed": false
   },
   "outputs": [],
   "source": [
    "print('Correlation matrix =\\n', cormat)"
   ]
  },
  {
   "cell_type": "code",
   "execution_count": null,
   "metadata": {
    "collapsed": false
   },
   "outputs": [],
   "source": [
    "print_exps_with_errs(res.x, appSD)"
   ]
  },
  {
   "cell_type": "code",
   "execution_count": null,
   "metadata": {
    "collapsed": true
   },
   "outputs": [],
   "source": []
  }
 ],
 "metadata": {
  "anaconda-cloud": {},
  "kernelspec": {
   "display_name": "Python [Root]",
   "language": "python",
   "name": "Python [Root]"
  },
  "language_info": {
   "codemirror_mode": {
    "name": "ipython",
    "version": 3
   },
   "file_extension": ".py",
   "mimetype": "text/x-python",
   "name": "python",
   "nbconvert_exporter": "python",
   "pygments_lexer": "ipython3",
   "version": "3.5.1"
  }
 },
 "nbformat": 4,
 "nbformat_minor": 0
}
